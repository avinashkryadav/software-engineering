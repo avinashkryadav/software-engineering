{
  "nbformat": 4,
  "nbformat_minor": 0,
  "metadata": {
    "colab": {
      "provenance": [],
      "authorship_tag": "ABX9TyPhvFZmlwAs+C6PyCvTILaJ",
      "include_colab_link": true
    },
    "kernelspec": {
      "name": "python3",
      "display_name": "Python 3"
    },
    "language_info": {
      "name": "python"
    }
  },
  "cells": [
    {
      "cell_type": "markdown",
      "metadata": {
        "id": "view-in-github",
        "colab_type": "text"
      },
      "source": [
        "<a href=\"https://colab.research.google.com/github/avinashkryadav/software-engineering/blob/main/weathermodel.ipynb\" target=\"_parent\"><img src=\"https://colab.research.google.com/assets/colab-badge.svg\" alt=\"Open In Colab\"/></a>"
      ]
    },
    {
      "cell_type": "code",
      "execution_count": 4,
      "metadata": {
        "id": "k9q5B0am8B7W",
        "outputId": "54d75c73-a25d-4d47-ebd7-ea98426aef0f",
        "colab": {
          "base_uri": "https://localhost:8080/"
        }
      },
      "outputs": [
        {
          "output_type": "stream",
          "name": "stdout",
          "text": [
            "Day 1:\n",
            "Weather in New York:\n",
            "  Temperature: 26.6 °C\n",
            "  Humidity: 63.8%\n",
            "  Pressure: 1013.5 hPa\n",
            "  Wind Speed: 12.0 km/h\n",
            "-\n",
            "Day 2:\n",
            "Weather in New York:\n",
            "  Temperature: 28.1 °C\n",
            "  Humidity: 66.3%\n",
            "  Pressure: 1013.4 hPa\n",
            "  Wind Speed: 14.0 km/h\n",
            "-\n",
            "Day 3:\n",
            "Weather in New York:\n",
            "  Temperature: 28.5 °C\n",
            "  Humidity: 71.3%\n",
            "  Pressure: 1014.0 hPa\n",
            "  Wind Speed: 12.7 km/h\n",
            "-\n",
            "Day 4:\n",
            "Weather in New York:\n",
            "  Temperature: 29.8 °C\n",
            "  Humidity: 74.7%\n",
            "  Pressure: 1014.2 hPa\n",
            "  Wind Speed: 10.6 km/h\n",
            "-\n",
            "Day 5:\n",
            "Weather in New York:\n",
            "  Temperature: 31.2 °C\n",
            "  Humidity: 77.6%\n",
            "  Pressure: 1014.9 hPa\n",
            "  Wind Speed: 10.9 km/h\n",
            "-\n"
          ]
        }
      ],
      "source": [
        "\n",
        "import random\n",
        "\n",
        "class Weather:\n",
        "    def __init__(self, location, temperature, humidity, pressure, wind_speed):\n",
        "        \"\"\"Initialize the weather parameters.\"\"\"\n",
        "        self.location = location\n",
        "        self.temperature = temperature\n",
        "        self.humidity = humidity\n",
        "        self.pressure = pressure\n",
        "        self.wind_speed = wind_speed\n",
        "\n",
        "    def simulate_weather(self):\n",
        "        \"\"\"Simulate changes in weather conditions.\"\"\"\n",
        "        self.temperature += random.uniform(-2.0, 2.0)\n",
        "        self.humidity += random.uniform(-5.0, 5.0)\n",
        "        self.pressure += random.uniform(-1.0, 1.0)\n",
        "        self.wind_speed += random.uniform(-3.0, 3.0)\n",
        "\n",
        "\n",
        "        self.temperature = max(-30, min(50, self.temperature))\n",
        "        self.humidity = max(0, min(100, self.humidity))\n",
        "        self.pressure = max(950, min(1050, self.pressure))\n",
        "        self.wind_speed = max(0, self.wind_speed)\n",
        "\n",
        "    def display_weather(self):\n",
        "        \"\"\"Display the current weather conditions.\"\"\"\n",
        "        print(f\"Weather in {self.location}:\")\n",
        "        print(f\"  Temperature: {self.temperature:.1f} °C\")\n",
        "        print(f\"  Humidity: {self.humidity:.1f}%\")\n",
        "        print(f\"  Pressure: {self.pressure:.1f} hPa\")\n",
        "        print(f\"  Wind Speed: {self.wind_speed:.1f} km/h\")\n",
        "\n",
        "\n",
        "if __name__ == \"__main__\":\n",
        "\n",
        "    weather = Weather(location=\"New York\", temperature=25.0, humidity=60.0, pressure=1013.0, wind_speed=10.0)\n",
        "\n",
        "\n",
        "    for day in range(1, 6):\n",
        "        print(f\"Day {day}:\")\n",
        "        weather.simulate_weather()\n",
        "        weather.display_weather()\n",
        "        print(\"-\")"
      ]
    },
    {
      "cell_type": "code",
      "source": [],
      "metadata": {
        "id": "pK5czsc2FYoU"
      },
      "execution_count": null,
      "outputs": []
    }
  ]
}